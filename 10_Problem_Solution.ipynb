{
  "nbformat": 4,
  "nbformat_minor": 0,
  "metadata": {
    "colab": {
      "name": "10_Problem_Solution.ipynb",
      "provenance": [],
      "include_colab_link": true
    },
    "kernelspec": {
      "name": "python3",
      "display_name": "Python 3"
    },
    "language_info": {
      "name": "python"
    }
  },
  "cells": [
    {
      "cell_type": "markdown",
      "metadata": {
        "id": "view-in-github",
        "colab_type": "text"
      },
      "source": [
        "<a href=\"https://colab.research.google.com/github/Subhasree-Kommana/fmml2021/blob/main/10_Problem_Solution.ipynb\" target=\"_parent\"><img src=\"https://colab.research.google.com/assets/colab-badge.svg\" alt=\"Open In Colab\"/></a>"
      ]
    },
    {
      "cell_type": "code",
      "metadata": {
        "id": "4tHdnVmZSQIR"
      },
      "source": [
        "# Madagascar problem"
      ],
      "execution_count": null,
      "outputs": []
    },
    {
      "cell_type": "code",
      "metadata": {
        "id": "KkTnYRbjSZ4g"
      },
      "source": [
        "import numpy as np"
      ],
      "execution_count": null,
      "outputs": []
    },
    {
      "cell_type": "code",
      "metadata": {
        "id": "vbsZHOPVSbYh"
      },
      "source": [
        "A = np.array([[20, 122, 20], [35,180, 35],[50, 220, 65], [70, 300, 30]])\n",
        "x = np.array([[0.05], [0.002], [0.02]])"
      ],
      "execution_count": null,
      "outputs": []
    },
    {
      "cell_type": "code",
      "metadata": {
        "id": "4CvxUBB8U0PA"
      },
      "source": [
        "# 4x3 . 3x1 = 4x1"
      ],
      "execution_count": null,
      "outputs": []
    },
    {
      "cell_type": "code",
      "metadata": {
        "id": "PSJBzTZzSdzT"
      },
      "source": [
        "y = np.matmul(A,x) - 4.0"
      ],
      "execution_count": null,
      "outputs": []
    },
    {
      "cell_type": "code",
      "metadata": {
        "id": "Um0CIsH1VJPi"
      },
      "source": [
        "Z = np.hstack((A,y))"
      ],
      "execution_count": null,
      "outputs": []
    },
    {
      "cell_type": "code",
      "metadata": {
        "id": "Oryf-5goVTxG"
      },
      "source": [
        "Z"
      ],
      "execution_count": null,
      "outputs": []
    },
    {
      "cell_type": "code",
      "metadata": {
        "id": "vQt6XMT8ViYW"
      },
      "source": [
        "def RankArray(A,x):\n",
        "  y = np.dot(A,x) - 4.0\n",
        "  L = np.hstack((A,y))\n",
        "  return L"
      ],
      "execution_count": null,
      "outputs": []
    },
    {
      "cell_type": "code",
      "metadata": {
        "id": "6VqMLbRWVwL3"
      },
      "source": [
        "print (RankArray(A,x))"
      ],
      "execution_count": null,
      "outputs": []
    }
  ]
}